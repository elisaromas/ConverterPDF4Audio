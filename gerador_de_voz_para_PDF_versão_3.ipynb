{
  "nbformat": 4,
  "nbformat_minor": 0,
  "metadata": {
    "colab": {
      "provenance": [],
      "authorship_tag": "ABX9TyPvk16cyouJ2BGKegnGAm6N",
      "include_colab_link": true
    },
    "kernelspec": {
      "name": "python3",
      "display_name": "Python 3"
    },
    "language_info": {
      "name": "python"
    }
  },
  "cells": [
    {
      "cell_type": "markdown",
      "metadata": {
        "id": "view-in-github",
        "colab_type": "text"
      },
      "source": [
        "<a href=\"https://colab.research.google.com/github/elisaromas/ConverterPDF4Audio/blob/main/gerador_de_voz_para_PDF_vers%C3%A3o_3.ipynb\" target=\"_parent\"><img src=\"https://colab.research.google.com/assets/colab-badge.svg\" alt=\"Open In Colab\"/></a>"
      ]
    },
    {
      "cell_type": "code",
      "execution_count": null,
      "metadata": {
        "id": "dYqSxhh6yrkY"
      },
      "outputs": [],
      "source": [
        "#criar uma versão que leia um arquivo de texto (.txt), PDF (.pdf), DOC (.doc), ou DOCX (.docx) no Google Colab e o converta em fala,\n",
        "#você pode usar diferentes bibliotecas para lidar com cada tipo de arquivo.\n",
        "#Aqui está um exemplo utilizando as bibliotecas pyttsx3 para arquivos de texto e PyMuPDF para PDFs:\n",
        "#Instale as bibliotecas necessárias:\n",
        "!pip install pyttsx3\n",
        "!pip install PyMuPDF\n"
      ]
    },
    {
      "cell_type": "code",
      "source": [
        "#Importe as bibliotecas e crie a função para a leitura de arquivos:\n",
        "import os\n",
        "import pyttsx3\n",
        "import fitz  # Módulo do PyMuPDF\n",
        "\n",
        "def read_text_from_file(file_path):\n",
        "    _, file_extension = os.path.splitext(file_path)\n",
        "\n",
        "    if file_extension == '.txt':\n",
        "        with open(file_path, 'r', encoding='utf-8') as file:\n",
        "            return file.read()\n",
        "    elif file_extension == '.pdf':\n",
        "        doc = fitz.open(file_path)\n",
        "        text = \"\"\n",
        "        for page_num in range(doc.page_count):\n",
        "            page = doc[page_num]\n",
        "            text += page.get_text()\n",
        "        return text\n",
        "    elif file_extension in ['.doc', '.docx']:\n",
        "        # Adicione o código para lidar com arquivos DOC/DOCX usando bibliotecas apropriadas\n",
        "        # Por exemplo, python-docx para arquivos DOCX.\n",
        "        pass\n",
        "    else:\n",
        "        raise ValueError(\"Formato de arquivo não suportado.\")\n",
        "\n",
        "def text_to_speech(text, language='en'):\n",
        "    engine = pyttsx3.init()\n",
        "    engine.say(text)\n",
        "    engine.save_to_file(text, 'output.mp3')\n",
        "    engine.runAndWait()\n"
      ],
      "metadata": {
        "id": "-tZEeUway0m7"
      },
      "execution_count": null,
      "outputs": []
    },
    {
      "cell_type": "code",
      "source": [
        "#Use as funções para ler o arquivo e gerar a voz:\n",
        "file_path = 'caminho/do/seu/arquivo.txt'  # Substitua pelo caminho do seu arquivo\n",
        "text = read_text_from_file(file_path)\n",
        "text_to_speech(text, language='pt-br')\n"
      ],
      "metadata": {
        "id": "exML7MYay6MH"
      },
      "execution_count": null,
      "outputs": []
    },
    {
      "cell_type": "code",
      "source": [
        "#Lembre-se de fornecer o caminho correto para o seu arquivo.\n",
        "#Esta implementação suporta arquivos de texto (.txt) e PDFs (.pdf).\n",
        "#Se precisar lidar com arquivos DOC ou DOCX, você pode adicionar a lógica correspondente usando bibliotecas como python-docx.\n",
        "#Fontes:\n",
        "#pyttsx3 https://pypi.org/project/pyttsx3/\n",
        "#PyMuPDF https://pypi.org/project/PyMuPDF/"
      ],
      "metadata": {
        "id": "CPHf6bWszEFy"
      },
      "execution_count": null,
      "outputs": []
    }
  ]
}