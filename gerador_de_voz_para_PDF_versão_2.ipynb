{
  "nbformat": 4,
  "nbformat_minor": 0,
  "metadata": {
    "colab": {
      "provenance": [],
      "authorship_tag": "ABX9TyMlUZfHzHeeLQP7K72lIy1V",
      "include_colab_link": true
    },
    "kernelspec": {
      "name": "python3",
      "display_name": "Python 3"
    },
    "language_info": {
      "name": "python"
    }
  },
  "cells": [
    {
      "cell_type": "markdown",
      "metadata": {
        "id": "view-in-github",
        "colab_type": "text"
      },
      "source": [
        "<a href=\"https://colab.research.google.com/github/elisaromas/ConverterPDF4Audio/blob/main/gerador_de_voz_para_PDF_vers%C3%A3o_2.ipynb\" target=\"_parent\"><img src=\"https://colab.research.google.com/assets/colab-badge.svg\" alt=\"Open In Colab\"/></a>"
      ]
    },
    {
      "cell_type": "code",
      "execution_count": null,
      "metadata": {
        "id": "lRvGvc-MsNed"
      },
      "outputs": [],
      "source": [
        "#Para ler um arquivo em diferentes formatos como .txt, .pdf, .doc ou .docx, você pode utilizar bibliotecas específicas para cada formato.\n",
        "#Aqui está um exemplo modificando o código para lidar com diferentes tipos de arquivos:\n",
        "#Instale as bibliotecas necessárias:\n",
        "!pip install gtts\n",
        "!pip install PyPDF2\n",
        "!pip install python-docx\n"
      ]
    },
    {
      "cell_type": "code",
      "source": [
        "#Modifique a função para lidar com diferentes tipos de entrada:\n",
        "from gtts import gTTS\n",
        "from IPython.display import Audio\n",
        "import PyPDF2\n",
        "from docx import Document\n",
        "\n",
        "def text_to_speech_from_file(file_path, language='en'):\n",
        "    if file_path.endswith('.txt'):\n",
        "        with open(file_path, 'r', encoding='utf-8') as file:\n",
        "            text = file.read()\n",
        "    elif file_path.endswith('.pdf'):\n",
        "        pdf_reader = PyPDF2.PdfFileReader(file_path)\n",
        "        text = \"\"\n",
        "        for page_num in range(pdf_reader.numPages):\n",
        "            text += pdf_reader.getPage(page_num).extractText()\n",
        "    elif file_path.endswith('.docx') or file_path.endswith('.doc'):\n",
        "        doc = Document(file_path)\n",
        "        text = \"\"\n",
        "        for paragraph in doc.paragraphs:\n",
        "            text += paragraph.text + '\\n'\n",
        "    else:\n",
        "        raise ValueError(\"Formato de arquivo não suportado.\")\n",
        "\n",
        "    tts = gTTS(text=text, lang=language, slow=False)\n",
        "    tts.save(\"output.mp3\")\n",
        "    return Audio(\"output.mp3\", autoplay=True)\n"
      ],
      "metadata": {
        "id": "nT3mnEzgss6u"
      },
      "execution_count": null,
      "outputs": []
    },
    {
      "cell_type": "code",
      "source": [
        "#Use a função com o caminho do arquivo desejado:\n",
        "file_path = \"caminho/do/seu/arquivo.pdf\"  # Substitua pelo caminho do seu arquivo\n",
        "text_to_speech_from_file(file_path, language='pt-br')\n"
      ],
      "metadata": {
        "id": "sB4kZzRPx3ev"
      },
      "execution_count": null,
      "outputs": []
    },
    {
      "cell_type": "code",
      "source": [
        "#Isso permitirá que você leia arquivos nos formatos .txt, .pdf, .doc e .docx.\n",
        "#Lembre-se de fornecer o caminho correto do arquivo que você deseja converter.\n",
        "#Fontes:\n",
        "\n",
        "#PyPDF2 GitHub https://github.com/py-pdf/pypdf\n",
        "#python-docx GitHub https://github.com/python-openxml/python-docx"
      ],
      "metadata": {
        "id": "1HmQqi1NyLV7"
      },
      "execution_count": null,
      "outputs": []
    }
  ]
}