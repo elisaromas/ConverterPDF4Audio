{
  "nbformat": 4,
  "nbformat_minor": 0,
  "metadata": {
    "colab": {
      "provenance": [],
      "authorship_tag": "ABX9TyM9Ljtgsmte5l/4SzHE2iZf",
      "include_colab_link": true
    },
    "kernelspec": {
      "name": "python3",
      "display_name": "Python 3"
    },
    "language_info": {
      "name": "python"
    }
  },
  "cells": [
    {
      "cell_type": "markdown",
      "metadata": {
        "id": "view-in-github",
        "colab_type": "text"
      },
      "source": [
        "<a href=\"https://colab.research.google.com/github/elisaromas/ConverterPDF4Audio/blob/main/gerador_de_voz_para_PDF_vers%C3%A3o_4.ipynb\" target=\"_parent\"><img src=\"https://colab.research.google.com/assets/colab-badge.svg\" alt=\"Open In Colab\"/></a>"
      ]
    },
    {
      "cell_type": "code",
      "execution_count": null,
      "metadata": {
        "id": "UTmOdqG7DL7Q"
      },
      "outputs": [],
      "source": [
        "#Cria uma versão para escolher o tipo de voz humana no arquivo mp3 de saida.\n",
        "#Escolher o idioma da voz de saida: Português do Brazil, Português de Portugal, inglês da America, Espanhol, Francês, Russo, Alemão.\n",
        "#Configurações da voz: masculina ou feminino (voz de criança, voz de adolescente, voz de adulto, voz de velho).\n",
        "#Controle de Timbres, Controle de tom.\n",
        "#Efeitos especiais na voz como: voz seca, voz com dialeto, voz com sotaque, voz romantizada, voz sensual, voz de locutor de radio, voz amedrontada, voz de coragem.\n",
        "#Escolher o idioma do texto de entrada.\n",
        "#Escolher o idioma do texto de entrada que leia um arquivo .txt .pdf .doc .docx\n",
        "#usar a biblioteca: https://github.com/facebookresearch/seamless_communication\n",
        "#usar a biblioteca: SeamlessM4T https://ai.meta.com/resources/models-and-libraries/seamless-communication/?utm_source=bensbites&utm_medium=newsletter&utm_campaign=sota-speech-and-text-translation\n",
        "#usar a biblioteca: https://github.com/m-bain/whisperX\n",
        "#usar a biblioteca: https://github.com/openai/whisper"
      ]
    },
    {
      "cell_type": "code",
      "source": [
        "#Criar um sistema tão completo e personalizado pode ser desafiador, mas vou fornecer um exemplo básico com algumas opções de personalização.\n",
        "#Para ter um controle mais detalhado sobre os aspectos da voz, você pode explorar bibliotecas mais avançadas, como a pyttsx3.\n",
        "#Infelizmente, a biblioteca gTTS não oferece muitos controles específicos sobre características da voz.\n",
        "#Aqui está uma versão básica com algumas opções:\n",
        "from gtts import gTTS\n",
        "from IPython.display import Audio\n",
        "import PyPDF2\n",
        "from docx import Document\n",
        "\n",
        "def text_to_speech_advanced(file_path, language='en', voice_type='adult', pitch=0, effects=None):\n",
        "    if file_path.endswith('.txt'):\n",
        "        with open(file_path, 'r', encoding='utf-8') as file:\n",
        "            text = file.read()\n",
        "    elif file_path.endswith('.pdf'):\n",
        "        pdf_reader = PyPDF2.PdfFileReader(file_path)\n",
        "        text = \"\"\n",
        "        for page_num in range(pdf_reader.numPages):\n",
        "            text += pdf_reader.getPage(page_num).extractText()\n",
        "    elif file_path.endswith('.docx') or file_path.endswith('.doc'):\n",
        "        doc = Document(file_path)\n",
        "        text = \"\"\n",
        "        for paragraph in doc.paragraphs:\n",
        "            text += paragraph.text + '\\n'\n",
        "    else:\n",
        "        raise ValueError(\"Formato de arquivo não suportado.\")\n",
        "\n",
        "    voice_options = {\n",
        "        'pt-br': 'pt-br',\n",
        "        'pt-pt': 'pt-pt',\n",
        "        'en-us': 'en-us',\n",
        "        'es': 'es',\n",
        "        'fr': 'fr',\n",
        "        'ru': 'ru',\n",
        "        'de': 'de',\n",
        "    }\n",
        "\n",
        "    voice_id = f'{voice_options[language]}-{voice_type}'\n",
        "    effects = effects or []\n",
        "\n",
        "    tts = gTTS(text=text, lang=language, slow=False, lang_check=False, tld='com', lang_check_done=True, lang_id=voice_id)\n",
        "\n",
        "    # Aplicando efeitos\n",
        "    for effect in effects:\n",
        "        if effect == 'dialect':\n",
        "            tts.subtext = \"caution: children playing\"\n",
        "        # Adicione mais efeitos conforme necessário\n",
        "\n",
        "    # Salvar o arquivo com as configurações de voz\n",
        "    output_path = \"output.mp3\"\n",
        "    tts.save(output_path)\n",
        "\n",
        "    return Audio(output_path, autoplay=True)\n"
      ],
      "metadata": {
        "id": "JIEJuXv_ENOi"
      },
      "execution_count": null,
      "outputs": []
    },
    {
      "cell_type": "code",
      "source": [
        "#Para usar a função, você pode chamar algo assim:\n",
        "file_path = \"caminho/do/seu/arquivo.pdf\"\n",
        "text_to_speech_advanced(file_path, language='pt-br', voice_type='adult', pitch=0, effects=['dialect'])\n"
      ],
      "metadata": {
        "id": "QNShT5G2EdmC"
      },
      "execution_count": null,
      "outputs": []
    },
    {
      "cell_type": "code",
      "source": [
        "#Este é um exemplo básico e as opções de personalização podem ser expandidas conforme necessário.\n",
        "#Lembre-se de que o controle preciso sobre a voz pode exigir o uso de bibliotecas mais avançadas, como pyttsx3."
      ],
      "metadata": {
        "id": "-vpuqokcEkTz"
      },
      "execution_count": null,
      "outputs": []
    }
  ]
}