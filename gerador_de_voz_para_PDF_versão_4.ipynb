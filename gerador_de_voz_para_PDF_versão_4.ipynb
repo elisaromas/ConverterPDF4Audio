{
  "nbformat": 4,
  "nbformat_minor": 0,
  "metadata": {
    "colab": {
      "provenance": [],
      "authorship_tag": "ABX9TyOk2tb9woKDW2l+H7HhPHSS",
      "include_colab_link": true
    },
    "kernelspec": {
      "name": "python3",
      "display_name": "Python 3"
    },
    "language_info": {
      "name": "python"
    }
  },
  "cells": [
    {
      "cell_type": "markdown",
      "metadata": {
        "id": "view-in-github",
        "colab_type": "text"
      },
      "source": [
        "<a href=\"https://colab.research.google.com/github/elisaromas/ConverterPDF4Audio/blob/main/gerador_de_voz_para_PDF_vers%C3%A3o_4.ipynb\" target=\"_parent\"><img src=\"https://colab.research.google.com/assets/colab-badge.svg\" alt=\"Open In Colab\"/></a>"
      ]
    },
    {
      "cell_type": "code",
      "execution_count": null,
      "metadata": {
        "id": "UTmOdqG7DL7Q"
      },
      "outputs": [],
      "source": [
        "#Cria uma versão para escolher o tipo de voz humana no arquivo mp3 de saida.\n",
        "#Escolher o idioma da voz de saida: Português do Brazil, Português de Portugal, inglês da America, Espanhol, Francês, Russo, Alemão.\n",
        "#Configurações da voz: masculina ou feminino (voz de criança, voz de adolescente, voz de adulto, voz de velho).\n",
        "#Controle de Timbres, Controle de tom.\n",
        "#Efeitos especiais na voz como: voz seca, voz com dialeto, voz com sotaque, voz romantizada, voz sensual, voz de locutor de radio, voz amedrontada, voz de coragem.\n",
        "#Escolher o idioma do texto de entrada.\n",
        "#Escolher o idioma do texto de entrada que leia um arquivo .txt .pdf .doc .docx\n",
        "#usar a biblioteca: https://github.com/facebookresearch/seamless_communication\n",
        "#usar a biblioteca: SeamlessM4T https://ai.meta.com/resources/models-and-libraries/seamless-communication/?utm_source=bensbites&utm_medium=newsletter&utm_campaign=sota-speech-and-text-translation\n",
        "#usar a biblioteca: https://github.com/m-bain/whisperX\n",
        "#usar a biblioteca: https://github.com/openai/whisper"
      ]
    }
  ]
}