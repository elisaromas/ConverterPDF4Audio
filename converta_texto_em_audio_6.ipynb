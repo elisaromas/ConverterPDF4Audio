{
  "nbformat": 4,
  "nbformat_minor": 0,
  "metadata": {
    "colab": {
      "provenance": [],
      "authorship_tag": "ABX9TyNxVbIrdo4DWD2bmXElcRoH",
      "include_colab_link": true
    },
    "kernelspec": {
      "name": "python3",
      "display_name": "Python 3"
    },
    "language_info": {
      "name": "python"
    }
  },
  "cells": [
    {
      "cell_type": "markdown",
      "metadata": {
        "id": "view-in-github",
        "colab_type": "text"
      },
      "source": [
        "<a href=\"https://colab.research.google.com/github/elisaromas/ConverterPDF4Audio/blob/main/converta_texto_em_audio_6.ipynb\" target=\"_parent\"><img src=\"https://colab.research.google.com/assets/colab-badge.svg\" alt=\"Open In Colab\"/></a>"
      ]
    },
    {
      "cell_type": "code",
      "execution_count": null,
      "metadata": {
        "id": "mJD97cC0s4JG"
      },
      "outputs": [],
      "source": [
        "#Preciso de um notebook ipynb que converta texto em audio usando a lib Whisper da openai procura\n",
        "#pra mim um notebook ipynb que faça conversão de texto para audio.\n",
        "\n",
        "# Import the necessary libraries\n",
        "import openai\n",
        "import os\n",
        "import pyaudio\n",
        "import wave\n",
        "\n",
        "# Set your OpenAI API key\n",
        "openai.api_key = \"your_openai_api_key\"\n",
        "\n",
        "# Define a function to record audio\n",
        "def record_audio(filename, duration=5):\n",
        "    FORMAT = pyaudio.paInt16\n",
        "    CHANNELS = 1\n",
        "    RATE = 16000\n",
        "    CHUNK = 1024\n",
        "    audio = pyaudio.PyAudio()\n",
        "    stream = audio.open(format=FORMAT, channels=CHANNELS,\n",
        "                        rate=RATE, input=True,\n",
        "                        frames_per_buffer=CHUNK)\n",
        "    print(\"Recording...\")\n",
        "    frames = []\n",
        "    for _ in range(0, int(RATE / CHUNK * duration)):\n",
        "        data = stream.read(CHUNK)\n",
        "        frames.append(data)\n",
        "    print(\"Finished recording\")\n",
        "    stream.stop_stream()\n",
        "    stream.close()\n",
        "    audio.terminate()\n",
        "    with wave.open(filename, 'wb') as wf:\n",
        "        wf.setnchannels(CHANNELS)\n",
        "        wf.setsampwidth(audio.get_sample_size(FORMAT))\n",
        "        wf.setframerate(RATE)\n",
        "        wf.writeframes(b''.join(frames))\n",
        "\n",
        "# Define a function to transcribe audio\n",
        "def transcribe_audio(filename):\n",
        "    with open(filename, \"rb\") as audio_file:\n",
        "        transcript = openai.Audio.transcribe(\"whisper-1\", audio_file)\n",
        "        return transcript[\"text\"]\n",
        "\n",
        "# Define the main function\n",
        "def main():\n",
        "    audio_filename = \"recorded_audio.wav\"\n",
        "    record_audio(audio_filename)\n",
        "    transcription = transcribe_audio(audio_filename)\n",
        "    print(\"Transcription:\", transcription)\n",
        "\n",
        "# Run the main function when the script is executed\n",
        "if __name__ == \"__main__\":\n",
        "    main()\n"
      ]
    },
    {
      "cell_type": "code",
      "source": [
        "#Voz para texto facilitada: implementando um aplicativo Python com a API Whisper Speech-to-Text da OpenAI\n",
        "#https://medium.com/codingthesmartway-com-blog/voice-to-text-made-easy-implementing-a-python-app-with-openais-whisper-speech-to-text-api-e8f415a5f737"
      ],
      "metadata": {
        "id": "8j66rTTHjyUN"
      },
      "execution_count": null,
      "outputs": []
    }
  ]
}