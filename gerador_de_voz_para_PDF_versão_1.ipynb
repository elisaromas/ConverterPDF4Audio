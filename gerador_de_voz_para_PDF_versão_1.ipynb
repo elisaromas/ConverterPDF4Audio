{
  "nbformat": 4,
  "nbformat_minor": 0,
  "metadata": {
    "colab": {
      "provenance": [],
      "authorship_tag": "ABX9TyNVDsDOSCTgVh3D0k005/KW",
      "include_colab_link": true
    },
    "kernelspec": {
      "name": "python3",
      "display_name": "Python 3"
    },
    "language_info": {
      "name": "python"
    }
  },
  "cells": [
    {
      "cell_type": "markdown",
      "metadata": {
        "id": "view-in-github",
        "colab_type": "text"
      },
      "source": [
        "<a href=\"https://colab.research.google.com/github/elisaromas/ConverterPDF4Audio/blob/main/gerador_de_voz_para_PDF_vers%C3%A3o_1.ipynb\" target=\"_parent\"><img src=\"https://colab.research.google.com/assets/colab-badge.svg\" alt=\"Open In Colab\"/></a>"
      ]
    },
    {
      "cell_type": "code",
      "execution_count": null,
      "metadata": {
        "id": "Go3QfiBFpDO2"
      },
      "outputs": [],
      "source": [
        "#Sim, é possível criar um gerador de voz para PDF usando o Google Colab com um notebook (.ipynb).\n",
        "#Você pode usar a biblioteca gTTS (Google Text-to-Speech) para converter o texto em fala. Aqui está um exemplo básico:\n"
      ]
    },
    {
      "cell_type": "code",
      "source": [
        "#Instale a biblioteca gTTS no Colab:\n",
        "!pip install gtts"
      ],
      "metadata": {
        "id": "nIPGXZbTpRWT"
      },
      "execution_count": null,
      "outputs": []
    },
    {
      "cell_type": "code",
      "source": [
        "#Importe a biblioteca e crie uma função para gerar a voz:\n",
        "from gtts import gTTS\n",
        "from IPython.display import Audio\n",
        "\n",
        "def text_to_speech(text, language='en'):\n",
        "    tts = gTTS(text=text, lang=language, slow=False)\n",
        "    tts.save(\"output.mp3\")\n",
        "    return Audio(\"output.mp3\", autoplay=True)\n"
      ],
      "metadata": {
        "id": "yIVSh6Hvpibn"
      },
      "execution_count": null,
      "outputs": []
    },
    {
      "cell_type": "code",
      "source": [
        "#Use a função para gerar a voz a partir do texto:\n",
        "text = \"Seu texto aqui.\"\n",
        "text_to_speech(text, language='pt-br')\n",
        "#Lembre-se de substituir \"Seu texto aqui.\" pelo texto do seu PDF.\n",
        "#Essa implementação salvará o arquivo de áudio como \"output.mp3\" e reproduzirá automaticamente no Colab.\n",
        "#Fonte: gTTS GitHub https://github.com/pndurette/gTTS\n",
        "#"
      ],
      "metadata": {
        "id": "3ad_SQw9pouf"
      },
      "execution_count": null,
      "outputs": []
    }
  ]
}